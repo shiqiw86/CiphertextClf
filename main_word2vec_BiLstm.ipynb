{
 "cells": [
  {
   "cell_type": "code",
   "execution_count": 924,
   "outputs": [],
   "source": [
    "import torch\n",
    "import torch.nn as nn\n",
    "import torch.optim as optim\n",
    "from gensim.models import FastText, Word2Vec\n",
    "import numpy as np"
   ],
   "metadata": {
    "collapsed": false,
    "pycharm": {
     "name": "#%%\n"
    }
   }
  },
  {
   "cell_type": "code",
   "execution_count": 925,
   "outputs": [],
   "source": [
    "import os\n",
    "os.environ['CUDA_LAUNCH_BLOCKING'] = \"1\""
   ],
   "metadata": {
    "collapsed": false,
    "pycharm": {
     "name": "#%%\n"
    }
   }
  },
  {
   "cell_type": "markdown",
   "metadata": {},
   "source": [
    "### Read training, dev and unlabeled test data"
   ]
  },
  {
   "cell_type": "markdown",
   "metadata": {},
   "source": [
    "The following provides a starting code (Python 3) of how to read the labeled training and dev cipher text, and unlabeled test cipher text, into lists."
   ]
  },
  {
   "cell_type": "code",
   "execution_count": 926,
   "metadata": {},
   "outputs": [],
   "source": [
    "train, dev, test = [], [], []"
   ]
  },
  {
   "cell_type": "code",
   "execution_count": 927,
   "metadata": {},
   "outputs": [
    {
     "name": "stdout",
     "output_type": "stream",
     "text": [
      "16220\n"
     ]
    }
   ],
   "source": [
    "for x in open('./train_enc.tsv', encoding='utf-8'):\n",
    "    x = x.rstrip('\\n\\r').split('\\t')\n",
    "    # x[0] will be the label (0 or 1), and x[1] will be the ciphertext sentence.\n",
    "    x[0] = int(x[0]) \n",
    "    train.append(x)\n",
    "print (len(train))"
   ]
  },
  {
   "cell_type": "code",
   "execution_count": 928,
   "metadata": {},
   "outputs": [
    {
     "name": "stdout",
     "output_type": "stream",
     "text": [
      "2027\n"
     ]
    }
   ],
   "source": [
    "for x in open('./dev_enc.tsv', encoding='utf-8'):\n",
    "    x = x.rstrip('\\n\\r').split('\\t')\n",
    "    # x[0] will be the label (0 or 1), and x[1] will be the ciphertext sentence.\n",
    "    x[0] = int(x[0]) \n",
    "    dev.append(x)\n",
    "print (len(dev))"
   ]
  },
  {
   "cell_type": "markdown",
   "metadata": {},
   "source": [
    "#### Different from 'train' and 'dev' that are both list of tuples, 'test' will be just a list."
   ]
  },
  {
   "cell_type": "code",
   "execution_count": 929,
   "metadata": {},
   "outputs": [
    {
     "name": "stdout",
     "output_type": "stream",
     "text": [
      "2028\n"
     ]
    }
   ],
   "source": [
    "for x in open('./test_enc_unlabeled.tsv', encoding='utf-8'):\n",
    "    x = x.rstrip('\\n\\r')\n",
    "    test.append(x)\n",
    "print (len(test))"
   ]
  },
  {
   "cell_type": "markdown",
   "metadata": {},
   "source": [
    "#### You can split every sentence into lists of words by white spaces."
   ]
  },
  {
   "cell_type": "code",
   "execution_count": 930,
   "metadata": {},
   "outputs": [],
   "source": [
    "train_split = [[x[0], x[1].split(' ')] for x in train]\n",
    "dev_split = [[x[0], x[1].split(' ')] for x in dev]\n",
    "test_split = [[x.split(' ')] for x in test]"
   ]
  },
  {
   "cell_type": "code",
   "execution_count": 931,
   "outputs": [
    {
     "name": "stdout",
     "output_type": "stream",
     "text": [
      "[0, ['lkêcê', 'yoúc', 'cêêö', 'y#êjl', 'lw', 'mówám', 'Újám', 'j', 'Úêê#', 'ütlk', 'Úol', 'lkêú', 'z#ê', 'ctöé8ú', 'ówl', 'xoóóú', 'éê#xw#öê#c', '.']]\n"
     ]
    }
   ],
   "source": [
    "print(train_split[0])"
   ],
   "metadata": {
    "collapsed": false,
    "pycharm": {
     "name": "#%%\n"
    }
   }
  },
  {
   "cell_type": "markdown",
   "metadata": {},
   "source": [
    "### Main Code Body"
   ]
  },
  {
   "cell_type": "markdown",
   "metadata": {},
   "source": [
    "You may choose to experiment with different methods using your program. However, you need to embed the training and inference processes at here. We will use your prediction on the unlabeled test data to grade, while checking this part to understand how your method has produced the predictions."
   ]
  },
  {
   "cell_type": "code",
   "execution_count": 932,
   "metadata": {},
   "outputs": [],
   "source": [
    "# Eventually, results need to be a list of 2028 0 or 1's\n",
    "results = []"
   ]
  },
  {
   "cell_type": "code",
   "execution_count": 933,
   "outputs": [],
   "source": [
    "# full_train_tags = [x[0] for x in train_split]\n",
    "full_train_words = [x[1] for x in train_split]"
   ],
   "metadata": {
    "collapsed": false,
    "pycharm": {
     "name": "#%%\n"
    }
   }
  },
  {
   "cell_type": "code",
   "execution_count": 934,
   "outputs": [
    {
     "name": "stdout",
     "output_type": "stream",
     "text": [
      "Using cuda device\n"
     ]
    }
   ],
   "source": [
    "device = torch.device(\"cuda\" if torch.cuda.is_available() else \"cpu\")\n",
    "print(f\"Using {device} device\")"
   ],
   "metadata": {
    "collapsed": false,
    "pycharm": {
     "name": "#%%\n"
    }
   }
  },
  {
   "cell_type": "code",
   "execution_count": 935,
   "outputs": [],
   "source": [
    "batch_size = 128\n",
    "vector_size = 400\n",
    "hidden_size = 128\n",
    "num_layers = 2\n",
    "bidirectional = True\n",
    "dropout = 0.2"
   ],
   "metadata": {
    "collapsed": false,
    "pycharm": {
     "name": "#%%\n"
    }
   }
  },
  {
   "cell_type": "code",
   "execution_count": 936,
   "metadata": {},
   "outputs": [
    {
     "name": "stdout",
     "output_type": "stream",
     "text": [
      "torch.Size([20861, 400])\n",
      "20861\n"
     ]
    }
   ],
   "source": [
    "model = Word2Vec(vector_size=vector_size, window=5, min_count=1)\n",
    "model.build_vocab(full_train_words)\n",
    "model.train(full_train_words, total_examples=len(full_train_words), epochs=10)\n",
    "word_vectors = model.wv\n",
    "weight_vectors = torch.FloatTensor(word_vectors.vectors).to(device)\n",
    "weight_vectors.requires_grad = True\n",
    "vocab = dict(word_vectors.key_to_index)\n",
    "weight_vectors = torch.cat((weight_vectors, torch.zeros(1, vector_size).to(device)), 0)\n",
    "vocab['UKN'] = len(vocab)\n",
    "del model\n",
    "print(weight_vectors.size())\n",
    "print(len(vocab))"
   ]
  },
  {
   "cell_type": "code",
   "execution_count": 937,
   "outputs": [],
   "source": [
    "validate = train[-800:]\n",
    "train = train[:-800]\n",
    "train_split = [[x[0], x[1].split(' ')] for x in train]\n",
    "val_split = [[x[0], x[1].split(' ')] for x in validate]"
   ],
   "metadata": {
    "collapsed": false,
    "pycharm": {
     "name": "#%%\n"
    }
   }
  },
  {
   "cell_type": "code",
   "execution_count": 938,
   "outputs": [],
   "source": [
    "train_tags = [x[0] for x in train_split]\n",
    "train_words = [x[1] for x in train_split]\n",
    "val_tags = [x[0] for x in val_split]\n",
    "val_words = [x[1] for x in val_split]\n",
    "dev_tags = [x[0] for x in dev_split]\n",
    "dev_words = [x[1] for x in dev_split]"
   ],
   "metadata": {
    "collapsed": false,
    "pycharm": {
     "name": "#%%\n"
    }
   }
  },
  {
   "cell_type": "code",
   "execution_count": 955,
   "outputs": [],
   "source": [
    "def transferDataset(words, labels, vocabulary, isTrain):\n",
    "    idx = []\n",
    "    unknown = 0\n",
    "    if isTrain:\n",
    "        for i in range(len(words)):\n",
    "            idx.append([])\n",
    "            for j in range(len(words[i])):\n",
    "                idx[i].append(vocabulary[words[i][j]])\n",
    "    else:\n",
    "        for i in range(len(words)):\n",
    "            idx.append([])\n",
    "            for j in range(len(words[i])):\n",
    "                if words[i][j] not in vocabulary.keys():\n",
    "                    idx[i].append(vocabulary['UKN'])\n",
    "                    unknown += 1\n",
    "                else:\n",
    "                    idx[i].append(vocabulary[words[i][j]])\n",
    "        print(\"Unknown Token: %d\" % unknown)\n",
    "    lengths = np.array([len(i) for i in idx])\n",
    "    print(lengths.size)\n",
    "    word_idx = np.zeros((len(lengths), np.amax(lengths)), dtype=int)\n",
    "    print(word_idx.shape)\n",
    "    for i in range(len(lengths)):\n",
    "        for j in range(lengths[i]):\n",
    "            word_idx[i, j] = idx[i][j]\n",
    "    word_idx = torch.LongTensor(word_idx).to(device)\n",
    "    labels = torch.FloatTensor(labels).to(device)\n",
    "    # labels = torch.FloatTensor(labels).view(-1, 1)\n",
    "    # labels = torch.cat((labels, labels), 1).to(device)\n",
    "    print(labels.size())\n",
    "    lengths = torch.IntTensor(lengths).to('cpu')\n",
    "    return word_idx, labels, lengths"
   ],
   "metadata": {
    "collapsed": false,
    "pycharm": {
     "name": "#%%\n"
    }
   }
  },
  {
   "cell_type": "code",
   "execution_count": 940,
   "outputs": [
    {
     "name": "stdout",
     "output_type": "stream",
     "text": [
      "15420\n",
      "(15420, 56)\n",
      "torch.Size([15420])\n",
      "800\n",
      "(800, 54)\n",
      "torch.Size([800])\n"
     ]
    }
   ],
   "source": [
    "train_idx, train_labels, train_length = transferDataset(train_words, train_tags, vocab, True)\n",
    "val_idx, val_labels, val_length = transferDataset(val_words, val_tags, vocab, True)"
   ],
   "metadata": {
    "collapsed": false,
    "pycharm": {
     "name": "#%%\n"
    }
   }
  },
  {
   "cell_type": "code",
   "execution_count": 941,
   "outputs": [],
   "source": [
    "class CipherClf(nn.Module):\n",
    "    def __init__(self, input_size, hidden_size, num_layers, weight_vector, bidirectional, dropout):\n",
    "        super(CipherClf, self).__init__()\n",
    "        self.input_size = input_size\n",
    "        self.hidden_size = hidden_size\n",
    "\n",
    "        self.embedding = nn.Embedding.from_pretrained(weight_vector)\n",
    "        self.lstm = nn.LSTM(input_size = input_size, hidden_size = hidden_size, num_layers= num_layers, bidirectional = bidirectional, dropout=dropout, batch_first = True)\n",
    "        num_directions = 2 if bidirectional else 1\n",
    "        self.linear1 = nn.Linear(num_directions * hidden_size, 64)\n",
    "        # self.linear2 = nn.Linear(128, 128)\n",
    "        self.linear3 = nn.Linear(64, 1)\n",
    "        # self.relu = nn.ReLU()\n",
    "        self.sigmoid = nn.Sigmoid()\n",
    "        # self.drop = nn.Dropout(0.5)\n",
    "\n",
    "    def forward(self, sent, sent_length):\n",
    "        embedded = self.embedding(sent)\n",
    "        packed_embedded = nn.utils.rnn.pack_padded_sequence(embedded, sent_length, batch_first=True, enforce_sorted=False)\n",
    "        packed_output, (hidden, cell) = self.lstm(packed_embedded)\n",
    "        # print(hidden.size())\n",
    "        hidden = torch.cat((hidden[-2,:,:], hidden[-1,:,:]), 1)\n",
    "        # act1 = self.relu(hidden)\n",
    "        first_linear = self.linear1(hidden)\n",
    "        # act1 = self.relu(first_linear)\n",
    "        # second_linear = self.linear2(act1)\n",
    "        # act2 = self.relu(second_linear)\n",
    "        # final_output = self.drop(act2)\n",
    "        third_linear = self.linear3(first_linear)\n",
    "        final_output = self.sigmoid(third_linear)\n",
    "\n",
    "\n",
    "        return final_output"
   ],
   "metadata": {
    "collapsed": false,
    "pycharm": {
     "name": "#%%\n"
    }
   }
  },
  {
   "cell_type": "code",
   "execution_count": 942,
   "outputs": [
    {
     "name": "stdout",
     "output_type": "stream",
     "text": [
      "CipherClf(\n",
      "  (embedding): Embedding(20861, 400)\n",
      "  (lstm): LSTM(400, 128, num_layers=2, batch_first=True, dropout=0.2, bidirectional=True)\n",
      "  (linear1): Linear(in_features=256, out_features=64, bias=True)\n",
      "  (linear3): Linear(in_features=64, out_features=1, bias=True)\n",
      "  (sigmoid): Sigmoid()\n",
      ")\n"
     ]
    }
   ],
   "source": [
    "model = CipherClf(vector_size, hidden_size, num_layers, weight_vectors, bidirectional, dropout)\n",
    "model = model.to(device)\n",
    "print(model)"
   ],
   "metadata": {
    "collapsed": false,
    "pycharm": {
     "name": "#%%\n"
    }
   }
  },
  {
   "cell_type": "code",
   "execution_count": 943,
   "outputs": [],
   "source": [
    "optimizer = optim.Adam(model.parameters(), lr=0.005)\n",
    "loss_func = nn.BCELoss().to(device)"
   ],
   "metadata": {
    "collapsed": false,
    "pycharm": {
     "name": "#%%\n"
    }
   }
  },
  {
   "cell_type": "code",
   "execution_count": 944,
   "outputs": [],
   "source": [
    "# def validation(nn_model, loss_function, idx, labels, length, size):\n",
    "#     nn_model.eval()\n",
    "#     sum_loss = 0.0\n",
    "#     num_batch = 0\n",
    "#\n",
    "#     with torch.no_grad():\n",
    "#         for i in range(0, len(idx), size):\n",
    "#             if i + size < len(idx):\n",
    "#                 val_output = model(idx[i:i+size], length[i:i+size]).view(-1)\n",
    "#                 val_loss = loss_function(val_output, labels[i:i+size])\n",
    "#             else:\n",
    "#                 val_output = model(idx[i:], length[i:]).view(-1)\n",
    "#                 val_loss = loss_function(val_output, labels[i:])\n",
    "#             sum_loss += val_loss.item()\n",
    "#             num_batch += 1\n",
    "#\n",
    "#     return sum_loss / num_batch"
   ],
   "metadata": {
    "collapsed": false,
    "pycharm": {
     "name": "#%%\n"
    }
   }
  },
  {
   "cell_type": "code",
   "execution_count": 945,
   "outputs": [],
   "source": [
    "def validation(nn_model, loss_function, idx, labels, length):\n",
    "    nn_model.eval()\n",
    "    correct = 0.0\n",
    "\n",
    "    with torch.no_grad():\n",
    "        val_output = model(idx, length).view(-1)\n",
    "        val_loss = loss_function(val_output, labels)\n",
    "        val_pred = torch.round(val_output)\n",
    "        for i in range(len(val_pred)):\n",
    "            if val_pred[i] == labels[i]:\n",
    "                correct += 1.0\n",
    "\n",
    "    return val_loss.item(), correct/len(val_pred)"
   ],
   "metadata": {
    "collapsed": false,
    "pycharm": {
     "name": "#%%\n"
    }
   }
  },
  {
   "cell_type": "code",
   "execution_count": 956,
   "outputs": [
    {
     "name": "stdout",
     "output_type": "stream",
     "text": [
      "Unknown Token: 653\n",
      "2027\n",
      "(2027, 53)\n",
      "torch.Size([2027])\n"
     ]
    }
   ],
   "source": [
    "dev_idx, dev_labels, dev_length = transferDataset(dev_words, dev_tags, vocab, False)"
   ],
   "metadata": {
    "collapsed": false,
    "pycharm": {
     "name": "#%%\n"
    }
   }
  },
  {
   "cell_type": "code",
   "execution_count": 947,
   "outputs": [],
   "source": [
    "# def test(nn_model, idx, labels, length, size):\n",
    "#     nn_model.eval()\n",
    "#     correct = 0.0\n",
    "#\n",
    "#     with torch.no_grad():\n",
    "#         for i in range(0, len(idx), size):\n",
    "#             if i + size < len(idx):\n",
    "#                 test_output = nn_model(idx[i:i+size], length[i:i+size])\n",
    "#             else:\n",
    "#                 test_output = nn_model(idx[i:], length[i:])\n",
    "#             pred = torch.round(test_output)\n",
    "#             # pred = test_output.argmax(1)\n",
    "#\n",
    "#             for j in range(len(pred)):\n",
    "#                 if pred[j] == labels[i+j]:\n",
    "#                     correct += 1.0\n",
    "#         accuracy = correct / len(labels)\n",
    "#         print(\"Accuracy: %1.4f\" % accuracy)"
   ],
   "metadata": {
    "collapsed": false,
    "pycharm": {
     "name": "#%%\n"
    }
   }
  },
  {
   "cell_type": "code",
   "execution_count": 948,
   "outputs": [],
   "source": [
    "def test(nn_model, idx, labels, length):\n",
    "    nn_model.eval()\n",
    "    correct = 0.0\n",
    "\n",
    "    with torch.no_grad():\n",
    "        test_output = nn_model(idx, length)\n",
    "        pred = torch.round(test_output)\n",
    "        # pred = test_output.argmax(1)\n",
    "\n",
    "        for i in range(len(pred)):\n",
    "            if pred[i] == labels[i]:\n",
    "                correct += 1.0\n",
    "        accuracy = correct / len(labels)\n",
    "        print(\"Test accuracy: %1.4f\" % accuracy)"
   ],
   "metadata": {
    "collapsed": false,
    "pycharm": {
     "name": "#%%\n"
    }
   }
  },
  {
   "cell_type": "code",
   "execution_count": 949,
   "outputs": [
    {
     "name": "stdout",
     "output_type": "stream",
     "text": [
      "Epoch: 0, Loss: 0.659541\n",
      "val_loss: 0.6378, val_accuracy: 0.6275\n",
      "Test accuracy: 0.6290\n",
      "val_loss: 0.6029, val_accuracy: 0.6475\n",
      "Test accuracy: 0.6719\n",
      "val_loss: 0.6078, val_accuracy: 0.6562\n",
      "Overfitting 1 times: train_loss 0.5735602341900187 val_loss 0.6078209280967712\n",
      "Test accuracy: 0.6872\n",
      "val_loss: 0.6082, val_accuracy: 0.6562\n",
      "Overfitting 2 times: train_loss 0.5381329374865067 val_loss 0.608181357383728\n",
      "Test accuracy: 0.6897\n",
      "val_loss: 0.6455, val_accuracy: 0.6312\n",
      "Overfitting 3 times: train_loss 0.5013592014135408 val_loss 0.6454907059669495\n",
      "Test accuracy: 0.6887\n",
      "Epoch: 5, Loss: 0.465462\n",
      "val_loss: 0.6619, val_accuracy: 0.6438\n",
      "Overfitting 4 times: train_loss 0.4654621624749554 val_loss 0.6618862748146057\n",
      "Test accuracy: 0.6946\n",
      "val_loss: 0.7383, val_accuracy: 0.6225\n",
      "Overfitting 5 times: train_loss 0.4360882839388099 val_loss 0.7383458614349365\n",
      "Test accuracy: 0.6838\n",
      "val_loss: 0.6854, val_accuracy: 0.6987\n",
      "Test accuracy: 0.7242\n",
      "val_loss: 0.6626, val_accuracy: 0.6987\n",
      "Test accuracy: 0.7435\n",
      "val_loss: 0.5913, val_accuracy: 0.7450\n",
      "Test accuracy: 0.7676\n",
      "Epoch: 10, Loss: 0.288053\n",
      "val_loss: 0.6423, val_accuracy: 0.7562\n",
      "Overfitting 1 times: train_loss 0.28805264387248963 val_loss 0.6422981023788452\n",
      "Test accuracy: 0.7745\n",
      "val_loss: 0.7084, val_accuracy: 0.7875\n",
      "Overfitting 2 times: train_loss 0.2657077579089433 val_loss 0.708446204662323\n",
      "Test accuracy: 0.7893\n",
      "val_loss: 0.6506, val_accuracy: 0.8200\n",
      "Test accuracy: 0.8022\n",
      "val_loss: 0.7350, val_accuracy: 0.8000\n",
      "Overfitting 1 times: train_loss 0.1972378314403463 val_loss 0.7350442409515381\n",
      "Test accuracy: 0.7987\n",
      "val_loss: 0.6802, val_accuracy: 0.7925\n",
      "Test accuracy: 0.7898\n",
      "Epoch: 15, Loss: 0.180871\n",
      "val_loss: 0.6645, val_accuracy: 0.8037\n",
      "Test accuracy: 0.8076\n",
      "val_loss: 0.7509, val_accuracy: 0.8000\n",
      "Overfitting 1 times: train_loss 0.1635048205017551 val_loss 0.7508875727653503\n",
      "Test accuracy: 0.8120\n",
      "val_loss: 0.7289, val_accuracy: 0.8237\n",
      "Test accuracy: 0.8115\n",
      "val_loss: 0.7087, val_accuracy: 0.8225\n",
      "Test accuracy: 0.8199\n",
      "val_loss: 0.7786, val_accuracy: 0.8163\n",
      "Overfitting 1 times: train_loss 0.12202239880138192 val_loss 0.778558611869812\n",
      "Test accuracy: 0.8219\n",
      "Epoch: 20, Loss: 0.113788\n",
      "val_loss: 0.8044, val_accuracy: 0.8187\n",
      "Overfitting 2 times: train_loss 0.11378764839889097 val_loss 0.8043608069419861\n",
      "Test accuracy: 0.8254\n",
      "val_loss: 0.8405, val_accuracy: 0.8050\n",
      "Overfitting 3 times: train_loss 0.10518259361139999 val_loss 0.8405368328094482\n",
      "Test accuracy: 0.8135\n",
      "val_loss: 0.9191, val_accuracy: 0.8187\n",
      "Overfitting 4 times: train_loss 0.09683911814854658 val_loss 0.919113278388977\n",
      "Test accuracy: 0.8199\n",
      "val_loss: 0.7933, val_accuracy: 0.8275\n",
      "Test accuracy: 0.8209\n",
      "val_loss: 0.7789, val_accuracy: 0.8237\n",
      "Test accuracy: 0.8189\n",
      "Epoch: 25, Loss: 0.095905\n",
      "val_loss: 0.8541, val_accuracy: 0.8200\n",
      "Overfitting 1 times: train_loss 0.09590455968210027 val_loss 0.8541125059127808\n",
      "Test accuracy: 0.8239\n",
      "val_loss: 0.7754, val_accuracy: 0.8375\n",
      "Test accuracy: 0.8298\n",
      "val_loss: 0.8712, val_accuracy: 0.8250\n",
      "Overfitting 1 times: train_loss 0.08457701899542296 val_loss 0.8711766600608826\n",
      "Test accuracy: 0.8263\n",
      "val_loss: 0.8981, val_accuracy: 0.8063\n",
      "Overfitting 2 times: train_loss 0.08873556007838938 val_loss 0.8980934023857117\n",
      "Test accuracy: 0.8268\n",
      "val_loss: 0.8371, val_accuracy: 0.8325\n",
      "Test accuracy: 0.8313\n",
      "Epoch: 30, Loss: 0.088574\n",
      "val_loss: 0.9836, val_accuracy: 0.8363\n",
      "Overfitting 1 times: train_loss 0.08857386548472337 val_loss 0.9836139678955078\n",
      "Test accuracy: 0.8333\n",
      "val_loss: 0.9529, val_accuracy: 0.8375\n",
      "Test accuracy: 0.8367\n",
      "val_loss: 0.8334, val_accuracy: 0.8287\n",
      "Test accuracy: 0.8263\n",
      "val_loss: 0.9267, val_accuracy: 0.8287\n",
      "Overfitting 1 times: train_loss 0.07984901718364275 val_loss 0.9266590476036072\n",
      "Test accuracy: 0.8357\n",
      "val_loss: 0.8020, val_accuracy: 0.8237\n",
      "Test accuracy: 0.8244\n",
      "Epoch: 35, Loss: 0.080923\n",
      "val_loss: 0.9165, val_accuracy: 0.8250\n",
      "Overfitting 1 times: train_loss 0.080922957386606 val_loss 0.9164738059043884\n",
      "Test accuracy: 0.8407\n",
      "val_loss: 0.9707, val_accuracy: 0.8213\n",
      "Overfitting 2 times: train_loss 0.07675421538123907 val_loss 0.9706650972366333\n",
      "Test accuracy: 0.8362\n",
      "val_loss: 0.8221, val_accuracy: 0.8462\n",
      "Test accuracy: 0.8342\n",
      "val_loss: 0.9701, val_accuracy: 0.8300\n",
      "Overfitting 1 times: train_loss 0.0693938094845488 val_loss 0.9701160192489624\n",
      "Test accuracy: 0.8303\n",
      "val_loss: 0.8797, val_accuracy: 0.8237\n",
      "Test accuracy: 0.8342\n",
      "Epoch: 40, Loss: 0.071048\n",
      "val_loss: 0.9646, val_accuracy: 0.8200\n",
      "Overfitting 1 times: train_loss 0.07104825124544792 val_loss 0.9645904898643494\n",
      "Test accuracy: 0.8244\n",
      "val_loss: 0.9256, val_accuracy: 0.8325\n",
      "Test accuracy: 0.8367\n",
      "val_loss: 1.1757, val_accuracy: 0.8313\n",
      "Overfitting 1 times: train_loss 0.07714711188161669 val_loss 1.1756548881530762\n",
      "Test accuracy: 0.8194\n",
      "val_loss: 0.9096, val_accuracy: 0.8500\n",
      "Test accuracy: 0.8318\n",
      "val_loss: 0.8485, val_accuracy: 0.8325\n",
      "Test accuracy: 0.8175\n",
      "Epoch: 45, Loss: 0.082045\n",
      "val_loss: 0.8064, val_accuracy: 0.8337\n",
      "Test accuracy: 0.8303\n",
      "val_loss: 0.9823, val_accuracy: 0.8363\n",
      "Overfitting 1 times: train_loss 0.0689686743988971 val_loss 0.9822665452957153\n",
      "Test accuracy: 0.8288\n",
      "val_loss: 1.0441, val_accuracy: 0.8313\n",
      "Overfitting 2 times: train_loss 0.06390527280986555 val_loss 1.0440545082092285\n",
      "Test accuracy: 0.8249\n",
      "val_loss: 0.8714, val_accuracy: 0.8462\n",
      "Test accuracy: 0.8273\n",
      "val_loss: 0.8101, val_accuracy: 0.8287\n",
      "Test accuracy: 0.8194\n",
      "Epoch: 50, Loss: 0.071657\n",
      "val_loss: 1.1589, val_accuracy: 0.8425\n",
      "Overfitting 1 times: train_loss 0.07165748424335452 val_loss 1.1588951349258423\n",
      "Test accuracy: 0.8263\n",
      "val_loss: 0.9468, val_accuracy: 0.8313\n",
      "Test accuracy: 0.8298\n",
      "val_loss: 0.8574, val_accuracy: 0.8337\n",
      "Test accuracy: 0.8347\n",
      "val_loss: 1.2657, val_accuracy: 0.8425\n",
      "Overfitting 1 times: train_loss 0.056625813245773315 val_loss 1.2657387256622314\n",
      "Test accuracy: 0.8273\n",
      "val_loss: 0.8421, val_accuracy: 0.8225\n",
      "Test accuracy: 0.8263\n",
      "Epoch: 55, Loss: 0.068168\n",
      "val_loss: 1.0159, val_accuracy: 0.8387\n",
      "Overfitting 1 times: train_loss 0.06816818575905867 val_loss 1.0158848762512207\n",
      "Test accuracy: 0.8214\n",
      "val_loss: 1.0635, val_accuracy: 0.8462\n",
      "Overfitting 2 times: train_loss 0.07532356662506406 val_loss 1.0635255575180054\n",
      "Test accuracy: 0.8239\n",
      "val_loss: 0.8464, val_accuracy: 0.8300\n",
      "Test accuracy: 0.8244\n",
      "val_loss: 0.9565, val_accuracy: 0.8400\n",
      "Overfitting 1 times: train_loss 0.0710788737243611 val_loss 0.9564839005470276\n",
      "Test accuracy: 0.8333\n",
      "val_loss: 0.9645, val_accuracy: 0.8375\n",
      "Overfitting 2 times: train_loss 0.06877632602310378 val_loss 0.964527428150177\n",
      "Test accuracy: 0.8288\n",
      "Epoch: 60, Loss: 0.067020\n",
      "val_loss: 1.0131, val_accuracy: 0.8350\n",
      "Overfitting 3 times: train_loss 0.0670202123386062 val_loss 1.0130614042282104\n",
      "Test accuracy: 0.8298\n",
      "val_loss: 1.1109, val_accuracy: 0.8462\n",
      "Overfitting 4 times: train_loss 0.06598180794149391 val_loss 1.1109397411346436\n",
      "Test accuracy: 0.8411\n",
      "val_loss: 0.9465, val_accuracy: 0.8475\n",
      "Test accuracy: 0.8347\n",
      "val_loss: 0.8942, val_accuracy: 0.8488\n",
      "Test accuracy: 0.8313\n",
      "val_loss: 0.9189, val_accuracy: 0.8500\n",
      "Overfitting 1 times: train_loss 0.06578568036644912 val_loss 0.9189417958259583\n",
      "Test accuracy: 0.8293\n",
      "Epoch: 65, Loss: 0.070923\n",
      "val_loss: 0.7766, val_accuracy: 0.8337\n",
      "Test accuracy: 0.8337\n",
      "val_loss: 0.9851, val_accuracy: 0.8313\n",
      "Overfitting 1 times: train_loss 0.07648414952203261 val_loss 0.9850816130638123\n",
      "Test accuracy: 0.8239\n",
      "val_loss: 0.9117, val_accuracy: 0.8225\n",
      "Test accuracy: 0.8278\n",
      "val_loss: 0.8748, val_accuracy: 0.8300\n",
      "Test accuracy: 0.8367\n",
      "val_loss: 0.8007, val_accuracy: 0.8237\n",
      "Test accuracy: 0.8268\n",
      "Epoch: 70, Loss: 0.067979\n",
      "val_loss: 0.9295, val_accuracy: 0.8275\n",
      "Overfitting 1 times: train_loss 0.06797851312690037 val_loss 0.9294935464859009\n",
      "Test accuracy: 0.8249\n",
      "val_loss: 0.9332, val_accuracy: 0.8325\n",
      "Overfitting 2 times: train_loss 0.06302089261830099 val_loss 0.9331584572792053\n",
      "Test accuracy: 0.8372\n",
      "val_loss: 0.9290, val_accuracy: 0.8287\n",
      "Test accuracy: 0.8407\n",
      "val_loss: 0.8918, val_accuracy: 0.8237\n",
      "Test accuracy: 0.8377\n",
      "val_loss: 1.2646, val_accuracy: 0.8337\n",
      "Overfitting 1 times: train_loss 0.06698367501462786 val_loss 1.2645593881607056\n",
      "Test accuracy: 0.8352\n",
      "Epoch: 75, Loss: 0.066233\n",
      "val_loss: 0.8837, val_accuracy: 0.8438\n",
      "Test accuracy: 0.8387\n",
      "val_loss: 0.9295, val_accuracy: 0.8462\n",
      "Overfitting 1 times: train_loss 0.06313926211658343 val_loss 0.9295145869255066\n",
      "Test accuracy: 0.8313\n",
      "val_loss: 1.0079, val_accuracy: 0.8450\n",
      "Overfitting 2 times: train_loss 0.06284796214116013 val_loss 1.007935643196106\n",
      "Test accuracy: 0.8318\n",
      "val_loss: 0.7871, val_accuracy: 0.8413\n",
      "Test accuracy: 0.8416\n",
      "val_loss: 0.9149, val_accuracy: 0.8400\n",
      "Overfitting 1 times: train_loss 0.0643428756031862 val_loss 0.9149419069290161\n",
      "Test accuracy: 0.8372\n",
      "Epoch: 80, Loss: 0.065380\n",
      "val_loss: 0.8305, val_accuracy: 0.8313\n",
      "Test accuracy: 0.8421\n",
      "val_loss: 1.1929, val_accuracy: 0.8300\n",
      "Overfitting 1 times: train_loss 0.05863442301196008 val_loss 1.1928808689117432\n",
      "Test accuracy: 0.8328\n",
      "val_loss: 1.1325, val_accuracy: 0.8375\n",
      "Test accuracy: 0.8328\n",
      "val_loss: 1.1298, val_accuracy: 0.8387\n",
      "Test accuracy: 0.8461\n",
      "val_loss: 1.0234, val_accuracy: 0.8387\n",
      "Test accuracy: 0.8347\n",
      "Epoch: 85, Loss: 0.072679\n",
      "val_loss: 0.8818, val_accuracy: 0.8175\n",
      "Test accuracy: 0.8268\n",
      "val_loss: 0.9213, val_accuracy: 0.8500\n",
      "Overfitting 1 times: train_loss 0.08152258163702882 val_loss 0.9212872385978699\n",
      "Test accuracy: 0.8362\n",
      "val_loss: 0.9227, val_accuracy: 0.8387\n",
      "Overfitting 2 times: train_loss 0.07327777914672105 val_loss 0.922717273235321\n",
      "Test accuracy: 0.8244\n",
      "val_loss: 0.8928, val_accuracy: 0.8438\n",
      "Test accuracy: 0.8254\n",
      "val_loss: 0.8993, val_accuracy: 0.8525\n",
      "Overfitting 1 times: train_loss 0.06593681201492706 val_loss 0.8992530703544617\n",
      "Test accuracy: 0.8357\n",
      "Epoch: 90, Loss: 0.063909\n",
      "val_loss: 0.9561, val_accuracy: 0.8287\n",
      "Overfitting 2 times: train_loss 0.06390885869425929 val_loss 0.9561048746109009\n",
      "Test accuracy: 0.8436\n",
      "val_loss: 0.9097, val_accuracy: 0.8538\n",
      "Test accuracy: 0.8342\n",
      "val_loss: 0.8561, val_accuracy: 0.8500\n",
      "Test accuracy: 0.8372\n",
      "val_loss: 0.8924, val_accuracy: 0.8350\n",
      "Overfitting 1 times: train_loss 0.0635868813072847 val_loss 0.8924084305763245\n",
      "Test accuracy: 0.8421\n",
      "val_loss: 1.0896, val_accuracy: 0.8375\n",
      "Overfitting 2 times: train_loss 0.0668830107127832 val_loss 1.089625597000122\n",
      "Test accuracy: 0.8323\n",
      "Epoch: 95, Loss: 0.058828\n",
      "val_loss: 0.9191, val_accuracy: 0.8300\n",
      "Test accuracy: 0.8451\n",
      "val_loss: 0.8934, val_accuracy: 0.8325\n",
      "Test accuracy: 0.8426\n",
      "val_loss: 0.9113, val_accuracy: 0.8350\n",
      "Overfitting 1 times: train_loss 0.06585749544295644 val_loss 0.9113413095474243\n",
      "Test accuracy: 0.8397\n",
      "val_loss: 0.9026, val_accuracy: 0.8425\n",
      "Test accuracy: 0.8347\n",
      "val_loss: 1.2134, val_accuracy: 0.8250\n",
      "Overfitting 1 times: train_loss 0.06720262718163739 val_loss 1.2134013175964355\n",
      "Test accuracy: 0.8416\n",
      "Epoch: 100, Loss: 0.078097\n",
      "val_loss: 0.9096, val_accuracy: 0.8213\n",
      "Test accuracy: 0.8407\n",
      "val_loss: 1.0140, val_accuracy: 0.8438\n",
      "Overfitting 1 times: train_loss 0.07679623031357596 val_loss 1.0139548778533936\n",
      "Test accuracy: 0.8303\n",
      "val_loss: 0.9281, val_accuracy: 0.8275\n",
      "Test accuracy: 0.8446\n",
      "val_loss: 0.9333, val_accuracy: 0.8200\n",
      "Overfitting 1 times: train_loss 0.08622906655688917 val_loss 0.9332748055458069\n",
      "Test accuracy: 0.8357\n",
      "val_loss: 0.7779, val_accuracy: 0.8337\n",
      "Test accuracy: 0.8362\n",
      "Epoch: 105, Loss: 0.069624\n",
      "val_loss: 0.8347, val_accuracy: 0.8287\n",
      "Overfitting 1 times: train_loss 0.0696238838598009 val_loss 0.8346806168556213\n",
      "Test accuracy: 0.8382\n",
      "val_loss: 0.8797, val_accuracy: 0.8275\n",
      "Overfitting 2 times: train_loss 0.07077832688569777 val_loss 0.8796815276145935\n",
      "Test accuracy: 0.8431\n",
      "val_loss: 0.8896, val_accuracy: 0.8475\n",
      "Overfitting 3 times: train_loss 0.07526981292584957 val_loss 0.8896101117134094\n",
      "Test accuracy: 0.8357\n",
      "val_loss: 1.0054, val_accuracy: 0.8363\n",
      "Overfitting 4 times: train_loss 0.06735002742079664 val_loss 1.0054070949554443\n",
      "Test accuracy: 0.8382\n",
      "val_loss: 1.0485, val_accuracy: 0.8363\n",
      "Overfitting 5 times: train_loss 0.06208930915791141 val_loss 1.0484875440597534\n",
      "Test accuracy: 0.8352\n",
      "Epoch: 110, Loss: 0.064917\n",
      "val_loss: 0.9197, val_accuracy: 0.8538\n",
      "Test accuracy: 0.8416\n",
      "val_loss: 1.1725, val_accuracy: 0.8313\n",
      "Overfitting 1 times: train_loss 0.0638437169057525 val_loss 1.1724989414215088\n",
      "Test accuracy: 0.8392\n",
      "val_loss: 1.0940, val_accuracy: 0.8400\n",
      "Test accuracy: 0.8362\n",
      "val_loss: 0.8772, val_accuracy: 0.8413\n",
      "Test accuracy: 0.8288\n",
      "val_loss: 0.8972, val_accuracy: 0.8313\n",
      "Overfitting 1 times: train_loss 0.06442836305696117 val_loss 0.8971683979034424\n",
      "Test accuracy: 0.8362\n",
      "Epoch: 115, Loss: 0.068809\n",
      "val_loss: 0.8299, val_accuracy: 0.8375\n",
      "Test accuracy: 0.8347\n",
      "val_loss: 0.9742, val_accuracy: 0.8387\n",
      "Overfitting 1 times: train_loss 0.06649474997442863 val_loss 0.9741578698158264\n",
      "Test accuracy: 0.8485\n",
      "val_loss: 0.7947, val_accuracy: 0.8413\n",
      "Test accuracy: 0.8421\n",
      "val_loss: 0.9082, val_accuracy: 0.8350\n",
      "Overfitting 1 times: train_loss 0.07028294507845127 val_loss 0.90815669298172\n",
      "Test accuracy: 0.8441\n",
      "val_loss: 0.9738, val_accuracy: 0.8550\n",
      "Overfitting 2 times: train_loss 0.06433065441891181 val_loss 0.9738255143165588\n",
      "Test accuracy: 0.8456\n",
      "Epoch: 120, Loss: 0.075754\n",
      "val_loss: 0.9129, val_accuracy: 0.8350\n",
      "Test accuracy: 0.8357\n",
      "val_loss: 0.8050, val_accuracy: 0.8438\n",
      "Test accuracy: 0.8372\n",
      "val_loss: 1.0141, val_accuracy: 0.8200\n",
      "Overfitting 1 times: train_loss 0.0746913455611418 val_loss 1.0141383409500122\n",
      "Test accuracy: 0.8446\n",
      "val_loss: 0.8763, val_accuracy: 0.8488\n",
      "Test accuracy: 0.8436\n",
      "val_loss: 0.8630, val_accuracy: 0.8363\n",
      "Test accuracy: 0.8431\n",
      "Epoch: 125, Loss: 0.080522\n",
      "val_loss: 0.7456, val_accuracy: 0.8500\n",
      "Test accuracy: 0.8416\n",
      "val_loss: 1.0951, val_accuracy: 0.8287\n",
      "Overfitting 1 times: train_loss 0.07965468893920587 val_loss 1.095064401626587\n",
      "Test accuracy: 0.8362\n",
      "val_loss: 0.8305, val_accuracy: 0.8488\n",
      "Test accuracy: 0.8367\n",
      "val_loss: 0.8616, val_accuracy: 0.8425\n",
      "Overfitting 1 times: train_loss 0.07273696352196626 val_loss 0.8615764379501343\n",
      "Test accuracy: 0.8342\n",
      "val_loss: 0.8054, val_accuracy: 0.8475\n",
      "Test accuracy: 0.8402\n",
      "Epoch: 130, Loss: 0.076156\n",
      "val_loss: 0.8015, val_accuracy: 0.8375\n",
      "Test accuracy: 0.8481\n",
      "val_loss: 0.8219, val_accuracy: 0.8287\n",
      "Overfitting 1 times: train_loss 0.07078521201494804 val_loss 0.8219171762466431\n",
      "Test accuracy: 0.8313\n",
      "val_loss: 0.8856, val_accuracy: 0.8250\n",
      "Overfitting 2 times: train_loss 0.0795684283953314 val_loss 0.8855665326118469\n",
      "Test accuracy: 0.8451\n",
      "val_loss: 1.0240, val_accuracy: 0.8313\n",
      "Overfitting 3 times: train_loss 0.08001448706654478 val_loss 1.024006724357605\n",
      "Test accuracy: 0.8397\n",
      "val_loss: 0.8839, val_accuracy: 0.8363\n",
      "Test accuracy: 0.8387\n",
      "Epoch: 135, Loss: 0.067401\n",
      "val_loss: 0.8391, val_accuracy: 0.8400\n",
      "Test accuracy: 0.8367\n",
      "val_loss: 1.0514, val_accuracy: 0.8225\n",
      "Overfitting 1 times: train_loss 0.07291447394335072 val_loss 1.051422357559204\n",
      "Test accuracy: 0.8313\n",
      "val_loss: 0.8312, val_accuracy: 0.8363\n",
      "Test accuracy: 0.8431\n",
      "val_loss: 0.9121, val_accuracy: 0.8325\n",
      "Overfitting 1 times: train_loss 0.06732737479254233 val_loss 0.9121142625808716\n",
      "Test accuracy: 0.8362\n",
      "val_loss: 0.9674, val_accuracy: 0.8375\n",
      "Overfitting 2 times: train_loss 0.07853433566768307 val_loss 0.9673764109611511\n",
      "Test accuracy: 0.8352\n",
      "Epoch: 140, Loss: 0.076858\n",
      "val_loss: 0.8491, val_accuracy: 0.8462\n",
      "Test accuracy: 0.8387\n",
      "val_loss: 1.0036, val_accuracy: 0.8350\n",
      "Overfitting 1 times: train_loss 0.06783104323866693 val_loss 1.0036481618881226\n",
      "Test accuracy: 0.8318\n",
      "val_loss: 1.0265, val_accuracy: 0.8325\n",
      "Overfitting 2 times: train_loss 0.06808899250651194 val_loss 1.0265460014343262\n",
      "Test accuracy: 0.8382\n",
      "val_loss: 0.8981, val_accuracy: 0.8425\n",
      "Test accuracy: 0.8347\n",
      "val_loss: 1.0442, val_accuracy: 0.8462\n",
      "Overfitting 1 times: train_loss 0.06529036969377482 val_loss 1.0442378520965576\n",
      "Test accuracy: 0.8411\n",
      "Epoch: 145, Loss: 0.068301\n",
      "val_loss: 0.9611, val_accuracy: 0.8438\n",
      "Test accuracy: 0.8308\n",
      "val_loss: 0.8425, val_accuracy: 0.8400\n",
      "Test accuracy: 0.8278\n",
      "val_loss: 1.1433, val_accuracy: 0.8425\n",
      "Overfitting 1 times: train_loss 0.0677988658282013 val_loss 1.1432726383209229\n",
      "Test accuracy: 0.8352\n",
      "val_loss: 0.8519, val_accuracy: 0.8488\n",
      "Test accuracy: 0.8313\n",
      "val_loss: 0.8478, val_accuracy: 0.8337\n",
      "Test accuracy: 0.8377\n",
      "Epoch: 150, Loss: 0.068788\n",
      "val_loss: 0.8208, val_accuracy: 0.8375\n",
      "Test accuracy: 0.8333\n",
      "val_loss: 1.1720, val_accuracy: 0.8337\n",
      "Overfitting 1 times: train_loss 0.07189692687705036 val_loss 1.1720060110092163\n",
      "Test accuracy: 0.8387\n",
      "val_loss: 0.9506, val_accuracy: 0.8425\n",
      "Test accuracy: 0.8333\n",
      "val_loss: 0.9402, val_accuracy: 0.8325\n",
      "Test accuracy: 0.8357\n",
      "val_loss: 0.9002, val_accuracy: 0.8387\n",
      "Test accuracy: 0.8441\n",
      "Epoch: 155, Loss: 0.063727\n",
      "val_loss: 0.9326, val_accuracy: 0.8350\n",
      "Overfitting 1 times: train_loss 0.06372661880902515 val_loss 0.9325531721115112\n",
      "Test accuracy: 0.8362\n",
      "val_loss: 0.8008, val_accuracy: 0.8363\n",
      "Test accuracy: 0.8333\n",
      "val_loss: 0.8712, val_accuracy: 0.8375\n",
      "Overfitting 1 times: train_loss 0.07285668450015143 val_loss 0.8711993098258972\n",
      "Test accuracy: 0.8397\n",
      "val_loss: 1.0230, val_accuracy: 0.8137\n",
      "Overfitting 2 times: train_loss 0.08354544014600683 val_loss 1.0230478048324585\n",
      "Test accuracy: 0.8337\n",
      "val_loss: 0.8584, val_accuracy: 0.8287\n",
      "Test accuracy: 0.8318\n",
      "Epoch: 160, Loss: 0.081301\n",
      "val_loss: 0.8686, val_accuracy: 0.8225\n",
      "Overfitting 1 times: train_loss 0.08130065613418572 val_loss 0.8686057329177856\n",
      "Test accuracy: 0.8263\n",
      "val_loss: 0.8076, val_accuracy: 0.8150\n",
      "Test accuracy: 0.8209\n",
      "val_loss: 0.7752, val_accuracy: 0.8325\n",
      "Test accuracy: 0.8199\n",
      "val_loss: 0.8684, val_accuracy: 0.8187\n",
      "Overfitting 1 times: train_loss 0.08177136201873299 val_loss 0.8683741688728333\n",
      "Test accuracy: 0.8323\n",
      "val_loss: 0.7869, val_accuracy: 0.8225\n",
      "Test accuracy: 0.8259\n",
      "Epoch: 165, Loss: 0.074547\n",
      "val_loss: 0.7994, val_accuracy: 0.8337\n",
      "Overfitting 1 times: train_loss 0.07454733550548553 val_loss 0.7994311451911926\n",
      "Test accuracy: 0.8347\n",
      "val_loss: 0.9219, val_accuracy: 0.8237\n",
      "Overfitting 2 times: train_loss 0.08264841350211093 val_loss 0.9218717217445374\n",
      "Test accuracy: 0.8165\n",
      "val_loss: 0.8983, val_accuracy: 0.8150\n",
      "Test accuracy: 0.8387\n",
      "val_loss: 0.7693, val_accuracy: 0.8363\n",
      "Test accuracy: 0.8367\n",
      "val_loss: 0.8144, val_accuracy: 0.8313\n",
      "Overfitting 1 times: train_loss 0.08067825849144912 val_loss 0.8144224286079407\n",
      "Test accuracy: 0.8352\n",
      "Epoch: 170, Loss: 0.078047\n",
      "val_loss: 0.8428, val_accuracy: 0.8237\n",
      "Overfitting 2 times: train_loss 0.07804682379788604 val_loss 0.8427619934082031\n",
      "Test accuracy: 0.8303\n",
      "val_loss: 0.8409, val_accuracy: 0.8275\n",
      "Test accuracy: 0.8352\n",
      "val_loss: 0.8032, val_accuracy: 0.8200\n",
      "Test accuracy: 0.8342\n",
      "val_loss: 0.7563, val_accuracy: 0.8400\n",
      "Test accuracy: 0.8347\n",
      "val_loss: 0.9089, val_accuracy: 0.8350\n",
      "Overfitting 1 times: train_loss 0.06822077679055288 val_loss 0.9088721871376038\n",
      "Test accuracy: 0.8392\n",
      "Epoch: 175, Loss: 0.078716\n",
      "val_loss: 0.8481, val_accuracy: 0.8300\n",
      "Test accuracy: 0.8387\n",
      "val_loss: 0.8532, val_accuracy: 0.8337\n",
      "Overfitting 1 times: train_loss 0.07446773091623606 val_loss 0.8531948924064636\n",
      "Test accuracy: 0.8318\n",
      "val_loss: 0.9646, val_accuracy: 0.8237\n",
      "Overfitting 2 times: train_loss 0.07139625093968939 val_loss 0.9645686149597168\n",
      "Test accuracy: 0.8342\n",
      "val_loss: 0.9430, val_accuracy: 0.8337\n",
      "Test accuracy: 0.8342\n",
      "val_loss: 0.8720, val_accuracy: 0.8525\n",
      "Test accuracy: 0.8268\n",
      "Epoch: 180, Loss: 0.078200\n",
      "val_loss: 0.9447, val_accuracy: 0.8400\n",
      "Overfitting 1 times: train_loss 0.07820033051135127 val_loss 0.9447228908538818\n",
      "Test accuracy: 0.8254\n",
      "val_loss: 0.8260, val_accuracy: 0.8300\n",
      "Test accuracy: 0.8303\n",
      "val_loss: 0.9170, val_accuracy: 0.8337\n",
      "Overfitting 1 times: train_loss 0.06690118652729948 val_loss 0.9170123338699341\n",
      "Test accuracy: 0.8318\n",
      "val_loss: 0.8604, val_accuracy: 0.8363\n",
      "Test accuracy: 0.8273\n",
      "val_loss: 0.9172, val_accuracy: 0.8350\n",
      "Overfitting 1 times: train_loss 0.07141278037601266 val_loss 0.9172350764274597\n",
      "Test accuracy: 0.8185\n",
      "Epoch: 185, Loss: 0.063104\n",
      "val_loss: 0.9357, val_accuracy: 0.8300\n",
      "Overfitting 2 times: train_loss 0.06310389020811182 val_loss 0.9357250928878784\n",
      "Test accuracy: 0.8357\n",
      "val_loss: 0.8641, val_accuracy: 0.8300\n",
      "Test accuracy: 0.8333\n",
      "val_loss: 0.9886, val_accuracy: 0.8387\n",
      "Overfitting 1 times: train_loss 0.0698310201294905 val_loss 0.9886185526847839\n",
      "Test accuracy: 0.8357\n",
      "val_loss: 0.6883, val_accuracy: 0.8325\n",
      "Test accuracy: 0.8283\n",
      "val_loss: 0.7989, val_accuracy: 0.8250\n",
      "Overfitting 1 times: train_loss 0.07904974642125043 val_loss 0.798935055732727\n",
      "Test accuracy: 0.8283\n",
      "Epoch: 190, Loss: 0.083157\n",
      "val_loss: 0.8057, val_accuracy: 0.8387\n",
      "Overfitting 2 times: train_loss 0.08315721551372 val_loss 0.8056913614273071\n",
      "Test accuracy: 0.8347\n",
      "val_loss: 0.6894, val_accuracy: 0.8413\n",
      "Test accuracy: 0.8372\n",
      "val_loss: 0.7263, val_accuracy: 0.8500\n",
      "Overfitting 1 times: train_loss 0.07873416373367645 val_loss 0.7262903451919556\n",
      "Test accuracy: 0.8362\n",
      "val_loss: 0.7982, val_accuracy: 0.8363\n",
      "Overfitting 2 times: train_loss 0.08648488947675248 val_loss 0.7981588840484619\n",
      "Test accuracy: 0.8288\n",
      "val_loss: 0.7934, val_accuracy: 0.8313\n",
      "Test accuracy: 0.8234\n",
      "Epoch: 195, Loss: 0.080628\n",
      "val_loss: 0.8903, val_accuracy: 0.8400\n",
      "Overfitting 1 times: train_loss 0.08062763251979982 val_loss 0.8902571797370911\n",
      "Test accuracy: 0.8293\n",
      "val_loss: 0.7001, val_accuracy: 0.8375\n",
      "Test accuracy: 0.8239\n",
      "val_loss: 0.8050, val_accuracy: 0.8425\n",
      "Overfitting 1 times: train_loss 0.07461583914527715 val_loss 0.8049781322479248\n",
      "Test accuracy: 0.8219\n",
      "val_loss: 0.8309, val_accuracy: 0.8438\n",
      "Overfitting 2 times: train_loss 0.07496213661275866 val_loss 0.8308585286140442\n",
      "Test accuracy: 0.8273\n",
      "val_loss: 0.8106, val_accuracy: 0.8438\n",
      "Test accuracy: 0.8278\n"
     ]
    }
   ],
   "source": [
    "epoch = 200\n",
    "last_val_loss = 1000\n",
    "overfitting = 0\n",
    "\n",
    "for i in range(epoch):\n",
    "    total_loss = 0.0\n",
    "    n_batch = 0\n",
    "    model.train()\n",
    "\n",
    "    for j in range(0, len(train_idx), batch_size):\n",
    "        optimizer.zero_grad()\n",
    "        if j + batch_size < len(train_idx):\n",
    "            output = model(train_idx[j:j+batch_size], train_length[j:j+batch_size]).view(-1)\n",
    "            loss = loss_func(output, train_labels[j:j+batch_size])\n",
    "        else:\n",
    "            output = model(train_idx[j:], train_length[j:]).view(-1)\n",
    "            loss = loss_func(output, train_labels[j:])\n",
    "        loss.backward()\n",
    "        optimizer.step()\n",
    "        total_loss += loss.item()\n",
    "        n_batch += 1\n",
    "    avg_loss = total_loss / n_batch\n",
    "    if i%5 == 0:\n",
    "        print('Epoch: %d, Loss: %1.6f' %(i, avg_loss))\n",
    "    # validation_loss = validation(model, loss_func, val_idx, val_labels, val_length, batch_size)\n",
    "    validation_loss, validation_accuracy = validation(model, loss_func, val_idx, val_labels, val_length)\n",
    "    print(\"val_loss: %1.4f, val_accuracy: %1.4f\" % (validation_loss, validation_accuracy))\n",
    "    if validation_loss > last_val_loss:\n",
    "        overfitting += 1\n",
    "        print(\"Overfitting \" + str(overfitting) + \" times: train_loss \" + \"\" + str(avg_loss) + \" val_loss \" + str(validation_loss))\n",
    "        if overfitting > 9:\n",
    "            print(\"Overfitting! Early Stop at epoch \" + str(i))\n",
    "            break\n",
    "    else:\n",
    "        overfitting = 0\n",
    "    last_val_loss = validation_loss\n",
    "    # test(model, dev_idx, dev_labels, dev_length, batch_size)\n",
    "    test(model, dev_idx, dev_labels, dev_length)"
   ],
   "metadata": {
    "collapsed": false,
    "pycharm": {
     "name": "#%%\n"
    }
   }
  },
  {
   "cell_type": "code",
   "execution_count": 950,
   "outputs": [],
   "source": [
    "# dev_idx, dev_labels, dev_length = transferDataset(dev_words, dev_tags, vocab, False)"
   ],
   "metadata": {
    "collapsed": false,
    "pycharm": {
     "name": "#%%\n"
    }
   }
  },
  {
   "cell_type": "code",
   "execution_count": 951,
   "outputs": [
    {
     "name": "stdout",
     "output_type": "stream",
     "text": [
      "Test accuracy: 0.8278\n"
     ]
    }
   ],
   "source": [
    "test(model, dev_idx, dev_labels, dev_length)"
   ],
   "metadata": {
    "collapsed": false,
    "pycharm": {
     "name": "#%%\n"
    }
   }
  },
  {
   "cell_type": "code",
   "execution_count": 951,
   "outputs": [],
   "source": [],
   "metadata": {
    "collapsed": false,
    "pycharm": {
     "name": "#%%\n"
    }
   }
  },
  {
   "cell_type": "markdown",
   "metadata": {},
   "source": [
    "### Output Prediction Result File"
   ]
  },
  {
   "cell_type": "markdown",
   "metadata": {},
   "source": [
    "You will need to submit a prediction result file. It should have 2028 lines, every line should be either 0 or 1, which is your model's prediction on the respective test set instance."
   ]
  },
  {
   "cell_type": "code",
   "execution_count": 952,
   "metadata": {},
   "outputs": [],
   "source": [
    "# suppose you had your model's predictions on the 2028 test cases read from test_enc_unlabeled.tsv, and \n",
    "#those results are in the list called 'results'\n",
    "# assert (len(results) == 2028)"
   ]
  },
  {
   "cell_type": "code",
   "execution_count": 953,
   "metadata": {},
   "outputs": [],
   "source": [
    "# make sure the results are not float numbers, but intergers 0 and 1\n",
    "# results = [int(x) for x in results]"
   ]
  },
  {
   "cell_type": "code",
   "metadata": {
    "pycharm": {
     "name": "#%%\n"
    }
   },
   "source": [
    "# write your prediction results to 'upload_predictions.txt' and upload that later\n",
    "# with open('upload_predictions.txt', 'w', encoding = 'utf-8') as fp:\n",
    "#     for x in results:\n",
    "#         fp.write(str(x) + '\\n')"
   ],
   "execution_count": 954,
   "outputs": []
  }
 ],
 "metadata": {
  "kernelspec": {
   "name": "cipher_gpu",
   "language": "python",
   "display_name": "Python (Cipher_gpu)"
  },
  "language_info": {
   "codemirror_mode": {
    "name": "ipython",
    "version": 3
   },
   "file_extension": ".py",
   "mimetype": "text/x-python",
   "name": "python",
   "nbconvert_exporter": "python",
   "pygments_lexer": "ipython3",
   "version": "3.8.3"
  }
 },
 "nbformat": 4,
 "nbformat_minor": 4
}